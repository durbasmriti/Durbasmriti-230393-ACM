{
  "cells": [
    {
      "cell_type": "markdown",
      "metadata": {
        "id": "AbMIyf8ouk1u"
      },
      "source": [
        "# Question 1 : Clustering\n",
        "\n",
        "Customer Segmentation is the subdivision of a market into discrete customer groups that share similar characteristics. Customer Segmentation can be a powerful means to identify unsatisfied customer needs.\n",
        "\n",
        "The csv file **segmentation data.csv** contains basic data about some customers like Customer ID, age, gender, annual income and spending score. You want to classify the customers into different groups so that marketing strategy could be planned in the future accordingly. How many different groups should be made ? What should be the approach ?\n",
        "\n",
        "This is an Unsupervised Learning question since it doesn't provide you with labels - the groups. \n",
        "\n",
        "### 1. Import the necessary modules"
      ]
    },
    {
      "cell_type": "code",
      "execution_count": 2,
      "metadata": {
        "id": "_UKGseStOQgk"
      },
      "outputs": [],
      "source": [
        "import pandas as pd\n",
        "import numpy as np\n"
      ]
    },
    {
      "cell_type": "markdown",
      "metadata": {
        "id": "FXs9rQC0u3_S"
      },
      "source": [
        "### 2. Read the csv file \"segmentation data.csv\" present in the Github repository as a Pandas DataFrame."
      ]
    },
    {
      "cell_type": "code",
      "execution_count": 24,
      "metadata": {
        "id": "bfiso96cORzB"
      },
      "outputs": [],
      "source": [
        "\n",
        "df = pd.read_csv(r\"C:\\Users\\durba\\Downloads\\segmentation data.csv\")"
      ]
    },
    {
      "cell_type": "code",
      "execution_count": 5,
      "metadata": {},
      "outputs": [
        {
          "data": {
            "text/html": [
              "<div>\n",
              "<style scoped>\n",
              "    .dataframe tbody tr th:only-of-type {\n",
              "        vertical-align: middle;\n",
              "    }\n",
              "\n",
              "    .dataframe tbody tr th {\n",
              "        vertical-align: top;\n",
              "    }\n",
              "\n",
              "    .dataframe thead th {\n",
              "        text-align: right;\n",
              "    }\n",
              "</style>\n",
              "<table border=\"1\" class=\"dataframe\">\n",
              "  <thead>\n",
              "    <tr style=\"text-align: right;\">\n",
              "      <th></th>\n",
              "      <th>ID</th>\n",
              "      <th>Sex</th>\n",
              "      <th>Marital status</th>\n",
              "      <th>Age</th>\n",
              "      <th>Education</th>\n",
              "      <th>Income</th>\n",
              "      <th>Occupation</th>\n",
              "      <th>Settlement size</th>\n",
              "    </tr>\n",
              "  </thead>\n",
              "  <tbody>\n",
              "    <tr>\n",
              "      <th>0</th>\n",
              "      <td>100000001</td>\n",
              "      <td>0</td>\n",
              "      <td>0</td>\n",
              "      <td>67</td>\n",
              "      <td>2</td>\n",
              "      <td>124670</td>\n",
              "      <td>1</td>\n",
              "      <td>2</td>\n",
              "    </tr>\n",
              "    <tr>\n",
              "      <th>1</th>\n",
              "      <td>100000002</td>\n",
              "      <td>1</td>\n",
              "      <td>1</td>\n",
              "      <td>22</td>\n",
              "      <td>1</td>\n",
              "      <td>150773</td>\n",
              "      <td>1</td>\n",
              "      <td>2</td>\n",
              "    </tr>\n",
              "    <tr>\n",
              "      <th>2</th>\n",
              "      <td>100000003</td>\n",
              "      <td>0</td>\n",
              "      <td>0</td>\n",
              "      <td>49</td>\n",
              "      <td>1</td>\n",
              "      <td>89210</td>\n",
              "      <td>0</td>\n",
              "      <td>0</td>\n",
              "    </tr>\n",
              "    <tr>\n",
              "      <th>3</th>\n",
              "      <td>100000004</td>\n",
              "      <td>0</td>\n",
              "      <td>0</td>\n",
              "      <td>45</td>\n",
              "      <td>1</td>\n",
              "      <td>171565</td>\n",
              "      <td>1</td>\n",
              "      <td>1</td>\n",
              "    </tr>\n",
              "    <tr>\n",
              "      <th>4</th>\n",
              "      <td>100000005</td>\n",
              "      <td>0</td>\n",
              "      <td>0</td>\n",
              "      <td>53</td>\n",
              "      <td>1</td>\n",
              "      <td>149031</td>\n",
              "      <td>1</td>\n",
              "      <td>1</td>\n",
              "    </tr>\n",
              "  </tbody>\n",
              "</table>\n",
              "</div>"
            ],
            "text/plain": [
              "          ID  Sex  Marital status  Age  Education  Income  Occupation  \\\n",
              "0  100000001    0               0   67          2  124670           1   \n",
              "1  100000002    1               1   22          1  150773           1   \n",
              "2  100000003    0               0   49          1   89210           0   \n",
              "3  100000004    0               0   45          1  171565           1   \n",
              "4  100000005    0               0   53          1  149031           1   \n",
              "\n",
              "   Settlement size  \n",
              "0                2  \n",
              "1                2  \n",
              "2                0  \n",
              "3                1  \n",
              "4                1  "
            ]
          },
          "execution_count": 5,
          "metadata": {},
          "output_type": "execute_result"
        }
      ],
      "source": [
        "df.head()"
      ]
    },
    {
      "cell_type": "markdown",
      "metadata": {
        "id": "pkoXSkGvvEfQ"
      },
      "source": [
        "### 3. Do the necessary preprocessing of the data.\n",
        "\n",
        "> Drop unwanted columns.\n",
        "\n",
        "> Check for null values.\n",
        "\n",
        "> Scale the numerical columns.\n",
        "\n",
        "> Additionally, you may also make the Age column have categorical values. How ? Apply some function that makes age groups turns all ages in some group to a particular number !\n",
        "\n",
        "Note : Don't do everything in a single code block ! Do it step-by-step and show output for each step."
      ]
    },
    {
      "cell_type": "code",
      "execution_count": 25,
      "metadata": {},
      "outputs": [
        {
          "data": {
            "text/html": [
              "<div>\n",
              "<style scoped>\n",
              "    .dataframe tbody tr th:only-of-type {\n",
              "        vertical-align: middle;\n",
              "    }\n",
              "\n",
              "    .dataframe tbody tr th {\n",
              "        vertical-align: top;\n",
              "    }\n",
              "\n",
              "    .dataframe thead th {\n",
              "        text-align: right;\n",
              "    }\n",
              "</style>\n",
              "<table border=\"1\" class=\"dataframe\">\n",
              "  <thead>\n",
              "    <tr style=\"text-align: right;\">\n",
              "      <th></th>\n",
              "      <th>Sex</th>\n",
              "      <th>Marital status</th>\n",
              "      <th>Age</th>\n",
              "      <th>Education</th>\n",
              "      <th>Income</th>\n",
              "      <th>Occupation</th>\n",
              "      <th>Settlement size</th>\n",
              "    </tr>\n",
              "  </thead>\n",
              "  <tbody>\n",
              "    <tr>\n",
              "      <th>0</th>\n",
              "      <td>0</td>\n",
              "      <td>0</td>\n",
              "      <td>67</td>\n",
              "      <td>2</td>\n",
              "      <td>124670</td>\n",
              "      <td>1</td>\n",
              "      <td>2</td>\n",
              "    </tr>\n",
              "    <tr>\n",
              "      <th>1</th>\n",
              "      <td>1</td>\n",
              "      <td>1</td>\n",
              "      <td>22</td>\n",
              "      <td>1</td>\n",
              "      <td>150773</td>\n",
              "      <td>1</td>\n",
              "      <td>2</td>\n",
              "    </tr>\n",
              "    <tr>\n",
              "      <th>2</th>\n",
              "      <td>0</td>\n",
              "      <td>0</td>\n",
              "      <td>49</td>\n",
              "      <td>1</td>\n",
              "      <td>89210</td>\n",
              "      <td>0</td>\n",
              "      <td>0</td>\n",
              "    </tr>\n",
              "    <tr>\n",
              "      <th>3</th>\n",
              "      <td>0</td>\n",
              "      <td>0</td>\n",
              "      <td>45</td>\n",
              "      <td>1</td>\n",
              "      <td>171565</td>\n",
              "      <td>1</td>\n",
              "      <td>1</td>\n",
              "    </tr>\n",
              "    <tr>\n",
              "      <th>4</th>\n",
              "      <td>0</td>\n",
              "      <td>0</td>\n",
              "      <td>53</td>\n",
              "      <td>1</td>\n",
              "      <td>149031</td>\n",
              "      <td>1</td>\n",
              "      <td>1</td>\n",
              "    </tr>\n",
              "  </tbody>\n",
              "</table>\n",
              "</div>"
            ],
            "text/plain": [
              "   Sex  Marital status  Age  Education  Income  Occupation  Settlement size\n",
              "0    0               0   67          2  124670           1                2\n",
              "1    1               1   22          1  150773           1                2\n",
              "2    0               0   49          1   89210           0                0\n",
              "3    0               0   45          1  171565           1                1\n",
              "4    0               0   53          1  149031           1                1"
            ]
          },
          "execution_count": 25,
          "metadata": {},
          "output_type": "execute_result"
        }
      ],
      "source": [
        "## drop unwanted columns\n",
        "df = df.drop(columns=['ID'])\n",
        "df.head()"
      ]
    },
    {
      "cell_type": "code",
      "execution_count": 26,
      "metadata": {
        "id": "R8T3S0J0OUS_"
      },
      "outputs": [
        {
          "data": {
            "text/plain": [
              "Sex                0\n",
              "Marital status     0\n",
              "Age                0\n",
              "Education          0\n",
              "Income             0\n",
              "Occupation         0\n",
              "Settlement size    0\n",
              "dtype: int64"
            ]
          },
          "execution_count": 26,
          "metadata": {},
          "output_type": "execute_result"
        }
      ],
      "source": [
        "## check for null values \n",
        "df.isnull().sum()"
      ]
    },
    {
      "cell_type": "code",
      "execution_count": 30,
      "metadata": {},
      "outputs": [
        {
          "data": {
            "text/html": [
              "<div>\n",
              "<style scoped>\n",
              "    .dataframe tbody tr th:only-of-type {\n",
              "        vertical-align: middle;\n",
              "    }\n",
              "\n",
              "    .dataframe tbody tr th {\n",
              "        vertical-align: top;\n",
              "    }\n",
              "\n",
              "    .dataframe thead th {\n",
              "        text-align: right;\n",
              "    }\n",
              "</style>\n",
              "<table border=\"1\" class=\"dataframe\">\n",
              "  <thead>\n",
              "    <tr style=\"text-align: right;\">\n",
              "      <th></th>\n",
              "      <th>Sex</th>\n",
              "      <th>Marital status</th>\n",
              "      <th>Age</th>\n",
              "      <th>Education</th>\n",
              "      <th>Income</th>\n",
              "      <th>Occupation</th>\n",
              "      <th>Settlement size</th>\n",
              "      <th>Age Group</th>\n",
              "    </tr>\n",
              "  </thead>\n",
              "  <tbody>\n",
              "    <tr>\n",
              "      <th>1995</th>\n",
              "      <td>1</td>\n",
              "      <td>0</td>\n",
              "      <td>47</td>\n",
              "      <td>1</td>\n",
              "      <td>123525</td>\n",
              "      <td>0</td>\n",
              "      <td>0</td>\n",
              "      <td>Generation X</td>\n",
              "    </tr>\n",
              "    <tr>\n",
              "      <th>1996</th>\n",
              "      <td>1</td>\n",
              "      <td>1</td>\n",
              "      <td>27</td>\n",
              "      <td>1</td>\n",
              "      <td>117744</td>\n",
              "      <td>1</td>\n",
              "      <td>0</td>\n",
              "      <td>Generation Z</td>\n",
              "    </tr>\n",
              "    <tr>\n",
              "      <th>1997</th>\n",
              "      <td>0</td>\n",
              "      <td>0</td>\n",
              "      <td>31</td>\n",
              "      <td>0</td>\n",
              "      <td>86400</td>\n",
              "      <td>0</td>\n",
              "      <td>0</td>\n",
              "      <td>Millennials</td>\n",
              "    </tr>\n",
              "    <tr>\n",
              "      <th>1998</th>\n",
              "      <td>1</td>\n",
              "      <td>1</td>\n",
              "      <td>24</td>\n",
              "      <td>1</td>\n",
              "      <td>97968</td>\n",
              "      <td>0</td>\n",
              "      <td>0</td>\n",
              "      <td>Generation Z</td>\n",
              "    </tr>\n",
              "    <tr>\n",
              "      <th>1999</th>\n",
              "      <td>0</td>\n",
              "      <td>0</td>\n",
              "      <td>25</td>\n",
              "      <td>0</td>\n",
              "      <td>68416</td>\n",
              "      <td>0</td>\n",
              "      <td>0</td>\n",
              "      <td>Generation Z</td>\n",
              "    </tr>\n",
              "  </tbody>\n",
              "</table>\n",
              "</div>"
            ],
            "text/plain": [
              "      Sex  Marital status  Age  Education  Income  Occupation  \\\n",
              "1995    1               0   47          1  123525           0   \n",
              "1996    1               1   27          1  117744           1   \n",
              "1997    0               0   31          0   86400           0   \n",
              "1998    1               1   24          1   97968           0   \n",
              "1999    0               0   25          0   68416           0   \n",
              "\n",
              "      Settlement size     Age Group  \n",
              "1995                0  Generation X  \n",
              "1996                0  Generation Z  \n",
              "1997                0   Millennials  \n",
              "1998                0  Generation Z  \n",
              "1999                0  Generation Z  "
            ]
          },
          "execution_count": 30,
          "metadata": {},
          "output_type": "execute_result"
        }
      ],
      "source": [
        "#categorizing according to age\n",
        "'''The Silent Generation: Born 1928-1945.\n",
        "Baby Boomers: Born 1946-1964.\n",
        "Generation X: Born 1965-1980.\n",
        "Millennials: Born 1981-1996.\n",
        "Generation Z: Born 1997-2012'''\n",
        "def categorize_age(age):\n",
        "    if(60<=age<=75):\n",
        "        return 'Baby Boomers'\n",
        "    elif ( 40<=age<60):\n",
        "        return 'Generation X'\n",
        "    elif(28<=age<40):\n",
        "        return 'Millennials'\n",
        "    else:\n",
        "        return 'Generation Z'\n",
        "    \n",
        "df['Age Group'] = df['Age'].apply(lambda x: categorize_age(x))\n",
        "\n",
        "df.tail()\n"
      ]
    },
    {
      "cell_type": "code",
      "execution_count": 31,
      "metadata": {},
      "outputs": [
        {
          "name": "stdout",
          "output_type": "stream",
          "text": [
            "0       2.653614\n",
            "1      -1.187132\n",
            "2       1.117316\n",
            "3       0.775916\n",
            "4       1.458716\n",
            "          ...   \n",
            "1995    0.946616\n",
            "1996   -0.760382\n",
            "1997   -0.418983\n",
            "1998   -1.016432\n",
            "1999   -0.931082\n",
            "Name: Age, Length: 2000, dtype: float64\n"
          ]
        }
      ],
      "source": [
        "#Scale the numerical columns\n",
        "from sklearn.preprocessing import StandardScaler\n",
        "scaler = StandardScaler()\n",
        "lst = ['Age','Income',]\n",
        "df[lst]=scaler.fit_transform(df[lst])\n",
        "print(df['Age'])"
      ]
    },
    {
      "cell_type": "markdown",
      "metadata": {
        "id": "GI5spEOLB2Sw"
      },
      "source": [
        "### 4. KMeans Model Training - Scikit-Learn\n",
        "\n",
        "At first, let's try to implement KMeans Clustering using sklearn.clusters.KMeans .\n",
        "\n",
        "How to decide for the value 'K' ?\n",
        "\n",
        "Read the following blog. It provides different ways of evaluating clustering algorithms.\n",
        "\n",
        "https://www.analyticsvidhya.com/blog/2021/05/k-mean-getting-the-optimal-number-of-clusters\n",
        "\n",
        "We will be looking on two methods : Elbow Method, Silhouette Analysis.\n",
        "\n",
        "**Make a list of values for K , ranging from 2 to 10. For each K, fit a model, calculate the inertia and silhouette scores. Plot them. Decide which value of K is optimal !**"
      ]
    },
    {
      "cell_type": "code",
      "execution_count": 33,
      "metadata": {
        "id": "onhGIzLqOX8p"
      },
      "outputs": [
        {
          "name": "stdout",
          "output_type": "stream",
          "text": [
            "For n_clusters = 2, Inertia: 5535.85485507024, Silhouette Score: 0.2902082458291776\n",
            "For n_clusters = 3, Inertia: 4466.6407227375075, Silhouette Score: 0.2516768222381715\n",
            "For n_clusters = 4, Inertia: 4029.49498501547, Silhouette Score: 0.20594236318058762\n",
            "For n_clusters = 5, Inertia: 3520.4107449986786, Silhouette Score: 0.21322926928519326\n",
            "For n_clusters = 6, Inertia: 3266.2966950895548, Silhouette Score: 0.21562412922536012\n",
            "For n_clusters = 7, Inertia: 3033.9879701023215, Silhouette Score: 0.21591355976267107\n",
            "For n_clusters = 8, Inertia: 2784.3899528404686, Silhouette Score: 0.22801614360661243\n",
            "For n_clusters = 9, Inertia: 2575.2802317154874, Silhouette Score: 0.23743511002956075\n",
            "For n_clusters = 10, Inertia: 2401.133544059562, Silhouette Score: 0.25449261171416837\n"
          ]
        }
      ],
      "source": [
        "from sklearn.cluster import KMeans\n",
        "from sklearn.metrics import silhouette_score\n",
        "\n",
        "# Drop the 'Age Group' column before clustering if it's in the DataFrame\n",
        "df_cluster = df.drop(columns=['Age Group'])\n",
        "\n",
        "k_values = range(2, 11)\n",
        "\n",
        "inertia_scores = []\n",
        "silhouette_scores = []\n",
        "\n",
        "for k in k_values:\n",
        "    kmeans = KMeans(n_clusters=k, random_state=42)\n",
        "    kmeans.fit(df_cluster)\n",
        "    \n",
        "    # Inertia score\n",
        "    inertia = kmeans.inertia_\n",
        "    inertia_scores.append(inertia)\n",
        "    \n",
        "    # Silhouette score\n",
        "    silhouette_avg = silhouette_score(df_cluster, kmeans.labels_)\n",
        "    silhouette_scores.append(silhouette_avg)\n",
        "    \n",
        "    print(f'For n_clusters = {k}, Inertia: {inertia}, Silhouette Score: {silhouette_avg}')\n"
      ]
    },
    {
      "cell_type": "code",
      "execution_count": 35,
      "metadata": {},
      "outputs": [
        {
          "name": "stderr",
          "output_type": "stream",
          "text": [
            "C:\\Users\\durba\\AppData\\Local\\Temp\\ipykernel_2192\\994549956.py:7: UserWarning: color is redundantly defined by the 'color' keyword argument and the fmt string \"bo-\" (-> color='b'). The keyword argument will take precedence.\n",
            "  plt.plot(k_values, inertia_scores, 'bo-', color='red')\n",
            "C:\\Users\\durba\\AppData\\Local\\Temp\\ipykernel_2192\\994549956.py:14: UserWarning: color is redundantly defined by the 'color' keyword argument and the fmt string \"bo-\" (-> color='b'). The keyword argument will take precedence.\n",
            "  plt.plot(k_values, silhouette_scores, 'bo-', color='blue')\n"
          ]
        },
        {
          "data": {
            "image/png": "[encoded data removed]",
            "text/plain": [
              "<Figure size 1000x400 with 2 Axes>"
            ]
          },
          "metadata": {},
          "output_type": "display_data"
        }
      ],
      "source": [
        "import matplotlib.pyplot as plt\n",
        "\n",
        "# Plot Inertia\n",
        "plt.figure(figsize=(10, 4))\n",
        "\n",
        "plt.subplot(1, 2, 1)\n",
        "plt.plot(k_values, inertia_scores, 'bo-', color='red')\n",
        "plt.xlabel('Number of Clusters (K)')\n",
        "plt.ylabel('Inertia')\n",
        "plt.title('Elbow Method For Optimal K')\n",
        "\n",
        "# Plot Silhouette Scores\n",
        "plt.subplot(1, 2, 2)\n",
        "plt.plot(k_values, silhouette_scores, 'bo-', color='blue')\n",
        "plt.xlabel('Number of Clusters (K)')\n",
        "plt.ylabel('Silhouette Score')\n",
        "plt.title('Silhouette Analysis For Optimal K')\n",
        "\n",
        "plt.tight_layout()\n",
        "plt.show()\n"
      ]
    },
    {
      "cell_type": "markdown",
      "metadata": {
        "id": "1jajN40GH0EP"
      },
      "source": [
        "### 5. KMeans Model Prediction\n",
        "\n",
        "Once you decided the optimal K, once again fit a model with that K value and store the silhouette score and the labels for the entire data.\n",
        "\n",
        "It is observed that the optimal value of k is 4. So, let's store the values of inertia and labels for k=4."
      ]
    },
    {
      "cell_type": "code",
      "execution_count": 36,
      "metadata": {
        "id": "qydGd1rYOZqx"
      },
      "outputs": [
        {
          "name": "stdout",
          "output_type": "stream",
          "text": [
            "Inertia for K=4: 4029.49498501547\n",
            "Silhouette Score for K=4: 0.20594236318058762\n"
          ]
        }
      ],
      "source": [
        "kmeans = KMeans(n_clusters=4, random_state=42)\n",
        "\n",
        "kmeans.fit(df_cluster)\n",
        "\n",
        "labels = kmeans.labels_\n",
        "inertia = kmeans.inertia_\n",
        "\n",
        "silhouette_avg = silhouette_score(df_cluster, labels)\n",
        "\n",
        "print(f'Inertia for K=4: {inertia}')\n",
        "print(f'Silhouette Score for K=4: {silhouette_avg}')"
      ]
    },
    {
      "cell_type": "markdown",
      "metadata": {
        "id": "WTWu6y8S0Usv"
      },
      "source": [
        "### 7. DBSCAN model training - Scikit-Learn\n",
        "\n",
        "Using sklear.clusters.DBSCAN, you have to fit a model on the data.\n",
        "\n",
        "But, here we would like to deal with two hyperparameters : epsilon and minimum number of samples.\n",
        "\n",
        "Make two lists. One with some probable values for epsilon, other with probable values for min_samples.\n",
        "\n",
        "Example : eps= [0.1,0.2,0.5,1,2] , min_samples=[3,4,5,6]\n",
        "\n",
        "Run a nested loop. for each value of eps and min_samples, fit a dbscan model on the data and calculate the silhouette score. Find the parameters for which the silhouette score is maximum."
      ]
    },
    {
      "cell_type": "code",
      "execution_count": null,
      "metadata": {
        "id": "NM5XJSZYOdmB"
      },
      "outputs": [],
      "source": []
    }
  ],
  "metadata": {
    "colab": {
      "provenance": []
    },
    "kernelspec": {
      "display_name": "Python 3",
      "name": "python3"
    },
    "language_info": {
      "codemirror_mode": {
        "name": "ipython",
        "version": 3
      },
      "file_extension": ".py",
      "mimetype": "text/x-python",
      "name": "python",
      "nbconvert_exporter": "python",
      "pygments_lexer": "ipython3",
      "version": "3.12.2"
    }
  },
  "nbformat": 4,
  "nbformat_minor": 0
}
